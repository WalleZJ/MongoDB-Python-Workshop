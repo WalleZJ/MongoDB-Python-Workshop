{
 "cells": [
  {
   "cell_type": "markdown",
   "metadata": {},
   "source": [
    "## CORD-19-Research-Data-Set\n",
    "\n",
    "This workbook covers the process of querying data from a local MongoDB.\n",
    "\n",
    "For this code to run on your local system, you'll need to download the CORD-19 data set and built a local MongoDB from a subset of the JSON files. \n",
    "\n",
    "### Download data\n",
    "\n",
    "You can download the data from:\n",
    "\n",
    "https://pages.semanticscholar.org/coronavirus-research\n",
    "\n",
    "I'm using the non-commercial use subset (76mb download). To keep the example size manageable, I moved the first twenty records into the data directory of this repository. \n",
    "\n",
    "### Install Mongo\n",
    "\n",
    "Instructions for installation are available on the MongoDB Manual at:\n",
    "\n",
    "https://docs.mongodb.com/manual/installation/\n",
    "\n",
    "### Mongo Client\n",
    "\n",
    "You may want to get familiar with the MongoDB client and CRUD operations before working with python. \n",
    "\n",
    "### Build a MongoDB from the CORD-19 Subset\n",
    "\n",
    "start mongo\n",
    "```\n",
    "mongo\n",
    "```\n",
    "\n",
    "create a MongoDB named \"covid-noncomm-use-dataset\"\n",
    "```\n",
    "use covid-noncomm-use-dataset\n",
    "```\n",
    "\n",
    "to import the CORD-19 JSON files into a new collection named \"pmc_content\", run the script (in the data directory with the JSON files)\n",
    "```\n",
    "for f in *.json\n",
    "do\n",
    "\tmongoimport --db=covid-noncomm-use-subset --collection=pmc_content --file=$f\n",
    "done\n",
    "```\n"
   ]
  },
  {
   "cell_type": "code",
   "execution_count": null,
   "metadata": {},
   "outputs": [],
   "source": [
    "import json\n",
    "from pymongo import MongoClient"
   ]
  },
  {
   "cell_type": "code",
   "execution_count": null,
   "metadata": {},
   "outputs": [],
   "source": [
    "client = MongoClient()"
   ]
  },
  {
   "cell_type": "code",
   "execution_count": null,
   "metadata": {},
   "outputs": [],
   "source": [
    "db = client['covid-noncomm-use-subset']"
   ]
  },
  {
   "cell_type": "code",
   "execution_count": null,
   "metadata": {},
   "outputs": [],
   "source": [
    "for c in db.pmc_content.find():\n",
    "    print(c)"
   ]
  },
  {
   "cell_type": "code",
   "execution_count": null,
   "metadata": {},
   "outputs": [],
   "source": [
    "# to print the titles only and suppress the id\n",
    "\n",
    "for c in db.pmc_content.find({},{ 'metadata.title': 1, '_id': 0 }):\n",
    "    print(c)"
   ]
  },
  {
   "cell_type": "code",
   "execution_count": null,
   "metadata": {},
   "outputs": [],
   "source": [
    "# find one paper by paper_id\n",
    "\n",
    "for c in db.pmc_content.find({'paper_id': '00a00d0edc750db4a0c299dd1ec0c6871f5a4f24'}):\n",
    "    print(c)"
   ]
  },
  {
   "cell_type": "code",
   "execution_count": null,
   "metadata": {},
   "outputs": [],
   "source": [
    "# query on nested documents\n",
    "# see: https://docs.mongodb.com/manual/tutorial/query-embedded-documents/\n",
    "\n",
    "for c in db.pmc_content.find({'metadata.title': 'Identification of Leukotoxin and other vaccine candidate proteins in a Mannheimia haemolytica commercial antigen'}):\n",
    "    print(c)"
   ]
  },
  {
   "cell_type": "code",
   "execution_count": null,
   "metadata": {},
   "outputs": [],
   "source": [
    "# query on an array of embedded documents\n",
    "# see: https://docs.mongodb.com/manual/tutorial/query-array-of-documents/\n",
    "\n",
    "for c in db.pmc_content.find({'metadata.authors.first': 'Florencia'}):\n",
    "    print(c)"
   ]
  },
  {
   "cell_type": "markdown",
   "metadata": {},
   "source": [
    "### Query on a text index\n",
    "\n",
    "To query on a search phrase or word, you'll need to build a text index on the fields you want to search. For this tutorial, we'll do this with the MongoDB shell. \n",
    "\n",
    "Note - if the field is nested you'll need to put it in qoutation marks when you build the text index.\n",
    "\n",
    "To build the index:\n",
    "```\n",
    "db.pmc_content.createIndex( { \"body_text.text\": \"text\" } )\n",
    "```\n",
    "\n",
    "To list all the indexes you have on a collection\n",
    "```\n",
    "db.pmc_content.getIndexes()\n",
    "```\n",
    "\n",
    "To remove the index\n",
    "```\n",
    "db.pmc_content.dropIndex(\"body_text.text_text\")\n",
    "```"
   ]
  },
  {
   "cell_type": "code",
   "execution_count": null,
   "metadata": {},
   "outputs": [],
   "source": [
    "# query the text index field created on the body_text field\n",
    "\n",
    "for c in db.pmc_content.find({'$text':{'$search':'Ebola'}}):\n",
    "    print(c)"
   ]
  },
  {
   "cell_type": "code",
   "execution_count": null,
   "metadata": {},
   "outputs": [],
   "source": []
  },
  {
   "cell_type": "code",
   "execution_count": null,
   "metadata": {},
   "outputs": [],
   "source": []
  }
 ],
 "metadata": {
  "kernelspec": {
   "display_name": "Python 3",
   "language": "python",
   "name": "python3"
  },
  "language_info": {
   "codemirror_mode": {
    "name": "ipython",
    "version": 3
   },
   "file_extension": ".py",
   "mimetype": "text/x-python",
   "name": "python",
   "nbconvert_exporter": "python",
   "pygments_lexer": "ipython3",
   "version": "3.6.8"
  }
 },
 "nbformat": 4,
 "nbformat_minor": 2
}
